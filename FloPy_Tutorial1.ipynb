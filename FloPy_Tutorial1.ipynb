{
 "cells": [
  {
   "cell_type": "markdown",
   "metadata": {},
   "source": [
    "# UH-WRRC FloPy Groundwater Modeling Workshop Practicum. \n",
    "### Starting from scratch:  defining and running a very simple groundwater model \n",
    "based on the stock FloPy Tutorial posted at: https://github.com/modflowpy/flopy/blob/develop/examples/Tutorials/Tutorial01/tutorial01.py"
   ]
  },
  {
   "cell_type": "markdown",
   "metadata": {},
   "source": [
    "# The Import Command\n",
    "\n",
    "first we define which modules (packages of scripts that other people have written) are going to be available in this notebook. This allows us to tap into the vast functionality of Python, without having to install everything ever made\n"
   ]
  },
  {
   "cell_type": "code",
   "execution_count": null,
   "metadata": {
    "collapsed": true
   },
   "outputs": [],
   "source": [
    "import numpy as np                    # Numpy is a basic math/science package for arrays\n",
    "import flopy                          # FloPy is our GW modeling package\n",
    "import matplotlib.pyplot as plt       # this is for plotting things\n",
    "import flopy.utils.binaryfile as bf   # this is a package from the flopy package, imported like this so we can call the package directly "
   ]
  },
  {
   "cell_type": "markdown",
   "metadata": {},
   "source": [
    "# Now start defining parts of the model"
   ]
  },
  {
   "cell_type": "code",
   "execution_count": null,
   "metadata": {
    "collapsed": true
   },
   "outputs": [],
   "source": [
    "# Assign name and create modflow model object\n",
    "modelname = 'tutorial1'\n",
    "mf = flopy.modflow.Modflow(modelname, exe_name='mf2005')"
   ]
  },
  {
   "cell_type": "markdown",
   "metadata": {},
   "source": [
    "### Create a square model geometry with 10 rows 10 columns and a cell size of 100 units"
   ]
  },
  {
   "cell_type": "code",
   "execution_count": null,
   "metadata": {
    "collapsed": true
   },
   "outputs": [],
   "source": [
    "# Model domain and grid definition\n",
    "Lx = 2000.               # this is the total width of the model grid\n",
    "Ly = 1000.               # this is the total height of the model grid\n",
    "ztop = 0.                # model top is at 0 m elevation\n",
    "zbot = -50.              # model bottom is at -50\n",
    "nlay = 1                 # this is a 1 layer model\n",
    "nrow = 10                # 10 rows \n",
    "ncol = 20                # 10 columns   \n",
    "delr = Lx/ncol           # model cell size, in x dimension here defined as a function of the length over the number of columns\n",
    "delc = Ly/nrow           # model cell size, in y dimension  \n",
    "delv = (ztop - zbot) / nlay                # model cell size, vertically elevation wize \n",
    "botm = np.linspace(ztop, zbot, nlay + 1)   # this is an array object, with two items, it has the "
   ]
  },
  {
   "cell_type": "markdown",
   "metadata": {},
   "source": [
    "###  Define the active and inactive areas of the model. This is how we shape the model into the shape of our own island. For now it will stay a square"
   ]
  },
  {
   "cell_type": "code",
   "execution_count": null,
   "metadata": {
    "collapsed": true
   },
   "outputs": [],
   "source": [
    "# Variables for the BAS package\n",
    "ibound = np.ones((nlay, nrow, ncol), dtype=np.int32)  # start with a grid of ones (one means active area in MODFLOW)\n",
    "ibound[:, :, 0] = -1                                  # change the first column of the grid of ones to - 1 (means specified head) \n",
    "ibound[:, :, -1] = -1                                 # change the last column of the grid of ones to - 1 \n",
    "strt = np.ones((nlay, nrow, ncol), dtype=np.float32)  # Create a grid of ones to represent staring heads\n",
    "strt[:, :, 0] = 10.                                   # change the first row to a specified head of 10\n",
    "strt[:, :, -1] = 0.                                   # change last row to specified head of 0.  This sets up the grounwater gradient that drives flow in the model"
   ]
  },
  {
   "cell_type": "markdown",
   "metadata": {},
   "source": [
    "###  Define hydraulic conductivity values"
   ]
  },
  {
   "cell_type": "code",
   "execution_count": null,
   "metadata": {
    "collapsed": true
   },
   "outputs": [],
   "source": [
    "# for now keep it simple with one value for the whole model\n",
    "hk=10.\n",
    "vka=10."
   ]
  },
  {
   "cell_type": "markdown",
   "metadata": {},
   "source": [
    "### Define a pumping well"
   ]
  },
  {
   "cell_type": "code",
   "execution_count": null,
   "metadata": {},
   "outputs": [],
   "source": [
    "# Create the well package\n",
    "# Remember to use zero-based layer, row, column indices!\n",
    "pumping_rate = -3000.               \n",
    "well_loc_rate = [[0, 3, 2, pumping_rate]]        # Defines the location (layer 0, row 3, column 2) and pumprate of the well\n",
    "stress_period_data = {0: well_loc_rate}          # it needs to be a python dictionary"
   ]
  },
  {
   "cell_type": "markdown",
   "metadata": {},
   "source": [
    "# Write all of the information we defined above to the FloPy model using these FloPy commands"
   ]
  },
  {
   "cell_type": "code",
   "execution_count": null,
   "metadata": {},
   "outputs": [],
   "source": [
    "# Write the discretization information from the 3rd cell to the model object\n",
    "dis = flopy.modflow.ModflowDis(mf, nlay, nrow, ncol, delr=delr, delc=delc,\n",
    "                               top=ztop, botm=botm[1:])\n",
    "\n",
    "# Write the ibound and starting head information from the 4th cell to the model object\n",
    "bas = flopy.modflow.ModflowBas(mf, ibound=ibound, strt=strt)\n",
    "\n",
    "# Add LPF (hydraulic conductivity) package to the MODFLOW model\n",
    "lpf = flopy.modflow.ModflowLpf(mf, hk=10., vka=10., ipakcb=53)\n",
    "\n",
    "# write the pumping well data to the model object \n",
    "wel = flopy.modflow.ModflowWel(mf, stress_period_data=stress_period_data)  # \n",
    "\n",
    "# This specifies how the model will save results as it runs, by defining an OC package to the MODFLOW model\n",
    "spd = {(0, 0): ['print head', 'print budget', 'save head', 'save budget']}\n",
    "oc = flopy.modflow.ModflowOc(mf, stress_period_data=spd, compact=True)\n",
    "\n",
    "# This specifies what set of built in equations to use to solve the model, there are a couple options \n",
    "# see https://water.usgs.gov/ogw/modflow-nwt/MODFLOW-NWT-Guide/index.html?pcg.htm  for other options\n",
    "pcg = flopy.modflow.ModflowPcg(mf)"
   ]
  },
  {
   "cell_type": "markdown",
   "metadata": {},
   "source": [
    "### This simple line of code takes all of the work we have done, and writes a series of .txt files that can be read by the MODFLOW exe "
   ]
  },
  {
   "cell_type": "code",
   "execution_count": null,
   "metadata": {
    "collapsed": true
   },
   "outputs": [],
   "source": [
    "# Write the MODFLOW model input files\n",
    "mf.write_input()"
   ]
  },
  {
   "cell_type": "markdown",
   "metadata": {},
   "source": [
    "# Run the MODFLOW model\n",
    "note that this line of code looks in the current working directory and calls the 'mf2005.exe'. Therefore this file needs to be in the current working directory. This is as easy as copying it into the directory after dowloading it from: \n",
    "https://www.usgs.gov/software/modflow-2005-usgs-three-dimensional-finite-difference-ground-water-model"
   ]
  },
  {
   "cell_type": "code",
   "execution_count": null,
   "metadata": {},
   "outputs": [],
   "source": [
    "# Run the MODFLOW model\n",
    "success, buff = mf.run_model()"
   ]
  },
  {
   "cell_type": "markdown",
   "metadata": {},
   "source": [
    "# how to tell if it worked\n",
    "#### If you get a message above that says: \n",
    "\n",
    "\n",
    "\"\"\"FloPy is using the following executable to run the model: mf2005.exe\n",
    "\n",
    "                                  MODFLOW-2005     \n",
    "    U.S. GEOLOGICAL SURVEY MODULAR FINITE-DIFFERENCE GROUND-WATER FLOW MODEL\n",
    "                             Version 1.12.00 2/3/2017                        \n",
    "\n",
    " Using NAME file: tutorial1.nam \n",
    " Run start date and time (yyyy/mm/dd hh:mm:ss): 2019/05/31  7:00:37\n",
    "\n",
    " Solving:  Stress period:     1    Time step:     1    Ground-Water Flow Eqn.\"\"\"\n",
    " \n",
    " \n",
    " \n",
    "#### Then the model has run successfully. This will also manifest if you look in the current working directory and see that there is a file written called \"tutorial1.hds\"  (Or whatever you have named you model in cell 2 above. This hds file is the output file that we can now read to see model results. "
   ]
  },
  {
   "cell_type": "markdown",
   "metadata": {},
   "source": [
    "### This code block makes a basic plot of the model results\n",
    "contour lines show the head values going from 10 on left side to 0 on right side with well in the middle"
   ]
  },
  {
   "cell_type": "code",
   "execution_count": null,
   "metadata": {},
   "outputs": [],
   "source": [
    "plt.subplot(1, 1, 1, aspect='equal')\n",
    "hds = bf.HeadFile(modelname + '.hds')\n",
    "head = hds.get_data(totim=1.0)\n",
    "levels = np.arange(1, 10, 1)\n",
    "extent = (delr / 2., Lx - delr / 2., Ly - delc / 2., delc / 2.)\n",
    "plt.contour(head[0, :, :], levels=levels, extent=extent)\n",
    "plt.savefig('tutorial1a.png')\n",
    "plt.show()"
   ]
  },
  {
   "cell_type": "markdown",
   "metadata": {},
   "source": [
    "## Make a more detailed plot of model results"
   ]
  },
  {
   "cell_type": "code",
   "execution_count": null,
   "metadata": {},
   "outputs": [],
   "source": [
    "fig = plt.figure(figsize=(10,10))\n",
    "ax = fig.add_subplot(1, 1, 1, aspect='equal')\n",
    "\n",
    "hds = bf.HeadFile(modelname+'.hds')\n",
    "times = hds.get_times()\n",
    "head = hds.get_data(totim=times[-1])\n",
    "levels = np.linspace(0, 10, 11)\n",
    "\n",
    "cbb = bf.CellBudgetFile(modelname+'.cbc')\n",
    "kstpkper_list = cbb.get_kstpkper()\n",
    "frf = cbb.get_data(text='FLOW RIGHT FACE', totim=times[-1])[0]\n",
    "fff = cbb.get_data(text='FLOW FRONT FACE', totim=times[-1])[0]\n",
    "\n",
    "modelmap = flopy.plot.ModelMap(model=mf, layer=0)\n",
    "qm = modelmap.plot_ibound()\n",
    "lc = modelmap.plot_grid()\n",
    "cs = modelmap.contour_array(head, levels=levels)\n",
    "quiver = modelmap.plot_discharge(frf, fff, head=head)\n",
    "plt.savefig('tutorial1b.png')\n",
    "plt.show()"
   ]
  },
  {
   "cell_type": "code",
   "execution_count": null,
   "metadata": {
    "collapsed": true
   },
   "outputs": [],
   "source": []
  }
 ],
 "metadata": {
  "kernelspec": {
   "display_name": "Python 3",
   "language": "python",
   "name": "python3"
  },
  "language_info": {
   "codemirror_mode": {
    "name": "ipython",
    "version": 3
   },
   "file_extension": ".py",
   "mimetype": "text/x-python",
   "name": "python",
   "nbconvert_exporter": "python",
   "pygments_lexer": "ipython3",
   "version": "3.6.3"
  }
 },
 "nbformat": 4,
 "nbformat_minor": 2
}
